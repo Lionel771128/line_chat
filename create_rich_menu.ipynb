{
 "cells": [
  {
   "cell_type": "code",
   "execution_count": 1,
   "metadata": {},
   "outputs": [],
   "source": [
    "'''\n",
    "Application 主架構\n",
    "'''\n",
    "\n",
    "# 引用Web Server套件\n",
    "from flask import Flask, request, abort\n",
    "\n",
    "# 從linebot 套件包裡引用 LineBotApi 與 WebhookHandler 類別\n",
    "from linebot import (\n",
    "    LineBotApi, WebhookHandler\n",
    ")\n",
    "\n",
    "# 引用無效簽章錯誤\n",
    "from linebot.exceptions import (\n",
    "    InvalidSignatureError\n",
    ")\n",
    "\n",
    "# 載入json處理套件\n",
    "import json\n",
    "\n",
    "# 載入基礎設定檔\n",
    "secretFileContentJson = json.load(open('./line_secret_key', 'r', encoding='utf-8'))\n",
    "server_url = secretFileContentJson.get('server_url')\n",
    "channel_access_token = secretFileContentJson[\"channel_access_token\"]\n",
    "\n",
    "\n",
    "# 設定Server啟用細節\n",
    "app = Flask(__name__,static_url_path = \"/material\" , static_folder = \"./material/\")\n",
    "\n",
    "#生成實體物件\n",
    "line_bot_api = LineBotApi(secretFileContentJson.get('channel_access_token'))"
   ]
  },
  {
   "cell_type": "code",
   "execution_count": 2,
   "metadata": {},
   "outputs": [],
   "source": [
    "'''\n",
    "將圖文選單設定檔，post給line，取得rich_menu_id\n",
    "\n",
    "設定line遠端位置\n",
    "設定消息的基本安全憑證\n",
    "寄發消息，並取得rich_menu_id\n",
    "\n",
    "'''\n",
    "\n",
    "import requests\n",
    "import os \n",
    "for i in os.listdir('./material/rich_menu'):\n",
    "    if not os.path.exists('./material/rich_menu/' + i + '/rich_menu_id.json'):\n",
    "        if 'rich_menu' in i:\n",
    "            menuJson = json.load(open('./material/rich_menu/' + i + '/rich_menu.json','r',encoding='utf-8'))\n",
    "            createMenuEndpoint = 'https://api.line.me/v2/bot/richmenu'\n",
    "            createMenuRequestHeader = {'Content-Type':'application/json','Authorization':'Bearer %s' \n",
    "                                        % channel_access_token}\n",
    "            lineCreateMenuResponse = requests.post(createMenuEndpoint,headers=createMenuRequestHeader,data=json.dumps(menuJson))\n",
    "            f = open('./material/rich_menu/' + i + '/rich_menu_id.json','w',encoding='utf-8')\n",
    "            f.write(lineCreateMenuResponse.text)\n",
    "            f.close()"
   ]
  },
  {
   "cell_type": "code",
   "execution_count": 3,
   "metadata": {},
   "outputs": [
    {
     "name": "stdout",
     "output_type": "stream",
     "text": [
      "<Response [400]>\n",
      "{\"message\":\"An image has already been uploaded to the richmenu\"}\n",
      "<Response [200]>\n",
      "{}\n",
      "<Response [400]>\n",
      "{\"message\":\"An image has already been uploaded to the richmenu\"}\n",
      "<Response [400]>\n",
      "{\"message\":\"An image has already been uploaded to the richmenu\"}\n"
     ]
    }
   ],
   "source": [
    "'''\n",
    "將圖文選單圖片post給line\n",
    "\n",
    "讀取rich_menu_id\n",
    "設定line遠端位置\n",
    "設定消息的基本安全憑證\n",
    "上傳照片並取得回傳結果\n",
    "\n",
    "\n",
    "'''\n",
    "\n",
    "for i in os.listdir('./material/rich_menu'):\n",
    "    if 'rich_menu' in i:\n",
    "        # 取得菜單Id         \n",
    "        rich_menu_id = json.load(open('./material/rich_menu/' + i + '/rich_menu_id.json', 'r', encoding='utf-8'))\n",
    "        rich_menu_id = rich_menu_id['richMenuId']\n",
    "        \n",
    "        # 設定Line的遠端位置        \n",
    "        uploadMenuEndpoint = 'https://api.line.me/v2/bot/richmenu/%s/content' % rich_menu_id\n",
    "        \n",
    "        # 設定消息的基本安全憑證\n",
    "        uploadMenuRequestHeader = {'Content-Type':'image/jpeg','Authorization':'Bearer %s'\n",
    "                                        % channel_access_token}\n",
    "        \n",
    "        # 上傳照片\n",
    "        uploadImageFile = open('./material/rich_menu/' + i + '/' + i + '.jpg', 'rb')\n",
    "        lineUploadMenuResponse = requests.post(uploadMenuEndpoint, headers=uploadMenuRequestHeader,data=uploadImageFile)\n",
    "        uploadImageFile.close()\n",
    "        print(lineUploadMenuResponse)\n",
    "        print(lineUploadMenuResponse.text)"
   ]
  },
  {
   "cell_type": "code",
   "execution_count": 6,
   "metadata": {},
   "outputs": [
    {
     "name": "stdout",
     "output_type": "stream",
     "text": [
      "<Response [200]>\n",
      "{}\n"
     ]
    }
   ],
   "source": [
    "'''\n",
    "將選單綁定到特定用戶上\n",
    "\n",
    "取得rich_menu_id\n",
    "取得self_user_id\n",
    "設定line的遠端位置\n",
    "設定消息的基本安全驗證\n",
    "發送消息告知\n",
    "\n",
    "'''\n",
    "import requests\n",
    "#取得rich_menu_id\n",
    "link_rich_menu_id = json.load(open('./material/rich_menu/rich_menu_main/rich_menu_id.json', 'r', encoding='utf-8'))\n",
    "link_rich_menu_id = link_rich_menu_id['richMenuId']\n",
    "\n",
    "#取得self_user_id\n",
    "self_user_id = json.load(open('./line_secret_key', 'r', encoding='utf-8'))\n",
    "self_user_id = self_user_id['self_user_id']\n",
    "\n",
    "# 將菜單id與用戶id組合成遠端位置\n",
    "linkMenuEndpoint = 'https://api.line.me/v2/bot/user/%s/richmenu/%s' % (self_user_id, link_rich_menu_id)\n",
    "\n",
    "# 設定消息基本安全憑證\n",
    "linkMenuRequestHeader = {'Content-Type':'image/jpeg','Authorization':'Bearer %s' % secretFileContentJson[\"channel_access_token\"]}\n",
    "\n",
    "# 發送消息\n",
    "lineLinkMenuResponse=requests.post(linkMenuEndpoint,headers=linkMenuRequestHeader)\n",
    "print(lineLinkMenuResponse)\n",
    "print(lineLinkMenuResponse.text)"
   ]
  },
  {
   "cell_type": "code",
   "execution_count": 5,
   "metadata": {},
   "outputs": [
    {
     "name": "stdout",
     "output_type": "stream",
     "text": [
      "https://api.line.me/v2/bot/user/U27915f51b4978ddee0207fac63f46b9d/richmenu\n",
      "<Response [200]>\n",
      "{}\n"
     ]
    }
   ],
   "source": [
    "\n",
    "'''\n",
    "\n",
    "解除選單與特定用戶的綁定\n",
    "    取出用戶id\n",
    "    設定Line的遠端位置\n",
    "    設定消息的基本安全憑證\n",
    "    發送消息告知\n",
    "\n",
    "'''\n",
    "\n",
    "# 取出用戶id，設定Line的遠端位置\n",
    "userMenuEndpoint='https://api.line.me/v2/bot/user/%s/richmenu' % (secretFileContentJson[\"self_user_id\"])\n",
    "print(userMenuEndpoint)\n",
    "\n",
    "# 設定消息的基本安全憑證\n",
    "userMenuRequestHeader={'Authorization':'Bearer %s' % secretFileContentJson[\"channel_access_token\"]}\n",
    "\n",
    "# 發送消息告知\n",
    "lineUnregisterUserMenuResponse=requests.delete(userMenuEndpoint,headers=userMenuRequestHeader)\n",
    "print(lineUnregisterUserMenuResponse)\n",
    "print(lineUnregisterUserMenuResponse.text)"
   ]
  },
  {
   "cell_type": "code",
   "execution_count": null,
   "metadata": {},
   "outputs": [],
   "source": []
  }
 ],
 "metadata": {
  "kernelspec": {
   "display_name": "Python 3",
   "language": "python",
   "name": "python3"
  },
  "language_info": {
   "codemirror_mode": {
    "name": "ipython",
    "version": 3
   },
   "file_extension": ".py",
   "mimetype": "text/x-python",
   "name": "python",
   "nbconvert_exporter": "python",
   "pygments_lexer": "ipython3",
   "version": "3.7.4"
  }
 },
 "nbformat": 4,
 "nbformat_minor": 2
}
