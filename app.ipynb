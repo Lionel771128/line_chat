{
 "cells": [
  {
   "cell_type": "code",
   "execution_count": 1,
   "metadata": {},
   "outputs": [],
   "source": [
    "'''\n",
    "Application 主架構\n",
    "'''\n",
    "\n",
    "# 引用Web Server套件\n",
    "from flask import Flask, request, abort\n",
    "\n",
    "# 從linebot 套件包裡引用 LineBotApi 與 WebhookHandler 類別\n",
    "from linebot import (\n",
    "    LineBotApi, WebhookHandler\n",
    ")\n",
    "\n",
    "# 引用無效簽章錯誤\n",
    "from linebot.exceptions import (\n",
    "    InvalidSignatureError\n",
    ")\n",
    "\n",
    "# 載入json處理套件\n",
    "import json\n",
    "\n",
    "# 載入基礎設定檔\n",
    "secretFileContentJson = json.load(open('./line_secret_key', 'r', encoding='utf-8'))\n",
    "server_url = secretFileContentJson.get('server_url')\n",
    "channel_access_token = secretFileContentJson[\"channel_access_token\"]\n",
    "\n",
    "\n",
    "# 設定Server啟用細節\n",
    "app = Flask(__name__,static_url_path = \"/material\" , static_folder = \"./material/\")\n",
    "\n",
    "#生成實體物件\n",
    "line_bot_api = LineBotApi(secretFileContentJson.get('channel_access_token'))\n",
    "handler = WebhookHandler(secretFileContentJson.get(\"secret_key\"))\n",
    "\n",
    "# 啟動server對外接口，使Line能丟消息進來\n",
    "@app.route('/', methods=['POST'])\n",
    "def callback():\n",
    "    # get X-Line-Signature header value\n",
    "    signature = request.headers['X-Line-Signature']\n",
    "\n",
    "    # get request body as text\n",
    "    body = request.get_data(as_text=True)\n",
    "    app.logger.info(\"Request body: \" + body)\n",
    "\n",
    "    # handle webhook body\n",
    "    try:\n",
    "        handler.handle(body, signature)\n",
    "    except InvalidSignatureError:\n",
    "        abort(400)\n",
    "\n",
    "    return 'OK'\n"
   ]
  },
  {
   "cell_type": "code",
   "execution_count": 2,
   "metadata": {},
   "outputs": [],
   "source": [
    "'''\n",
    "消息判斷器\n",
    "\n",
    "讀取指定的json檔案後，把json解析成不同格式的SendMessage\n",
    "\n",
    "讀取檔案，\n",
    "把內容轉換成json\n",
    "將json轉換成消息\n",
    "放回array中，並把array傳出。\n",
    "'''\n",
    "\n",
    "# 引用會用到的套件\n",
    "from linebot.models import (\n",
    "    ImagemapSendMessage,TextSendMessage,ImageSendMessage,LocationSendMessage,FlexSendMessage\n",
    ")\n",
    "\n",
    "from linebot.models.template import (\n",
    "    ButtonsTemplate,CarouselTemplate,ConfirmTemplate,ImageCarouselTemplate\n",
    "    \n",
    ")\n",
    "\n",
    "from linebot.models.template import *\n",
    "\n",
    "def detect_json_array_to_message_array(fileName):\n",
    "    \n",
    "    #打開檔案轉成json格式\n",
    "    with open(fileName, encoding='utf-8') as f:\n",
    "        jsonArray = json.load(f)\n",
    "    \n",
    "    #解析json\n",
    "    returnArray = []\n",
    "    for jsonObject in jsonArray:\n",
    "        \n",
    "        # 讀取其用來判斷的元件\n",
    "        message_type = jsonObject.get('type')\n",
    "        \n",
    "        # 轉換\n",
    "        if message_type == 'text':\n",
    "            returnArray.append(TextSendMessage.new_from_json_dict(jsonObject))\n",
    "        elif message_type == 'imagemap':\n",
    "            returnArray.append(ImagemapSendMessage.new_from_json_dict(jsonObject))\n",
    "        elif message_type == 'template':\n",
    "            returnArray.append(TemplateSendMessage.new_from_json_dict(jsonObject))\n",
    "        elif message_type == 'image':\n",
    "            returnArray.append(ImageSendMessage.new_from_json_dict(jsonObject))\n",
    "        elif message_type == 'sticker':\n",
    "            returnArray.append(StickerSendMessage.new_from_json_dict(jsonObject))  \n",
    "        elif message_type == 'audio':\n",
    "            returnArray.append(AudioSendMessage.new_from_json_dict(jsonObject))  \n",
    "        elif message_type == 'location':\n",
    "            returnArray.append(LocationSendMessage.new_from_json_dict(jsonObject))\n",
    "        elif message_type == 'flex':\n",
    "            returnArray.append(FlexSendMessage.new_from_json_dict(jsonObject))    \n",
    "\n",
    "    # 回傳\n",
    "    return returnArray\n",
    "        \n",
    "    \n",
    "    \n",
    "        "
   ]
  },
  {
   "cell_type": "code",
   "execution_count": 3,
   "metadata": {},
   "outputs": [
    {
     "data": {
      "text/plain": [
       "'\\n將選單綁定到特定用戶上\\n\\n取得rich_menu_id\\n取得self_user_id\\n設定line的遠端位置\\n設定消息的基本安全驗證\\n發送消息告知\\n\\n'"
      ]
     },
     "execution_count": 3,
     "metadata": {},
     "output_type": "execute_result"
    }
   ],
   "source": [
    "'''\n",
    "將選單綁定到特定用戶上\n",
    "\n",
    "取得rich_menu_id\n",
    "取得self_user_id\n",
    "設定line的遠端位置\n",
    "設定消息的基本安全驗證\n",
    "發送消息告知\n",
    "\n",
    "'''\n",
    "# #取得rich_menu_id\n",
    "# link_rich_menu_id = json.load(open('./material/rich_menu/rich_menu_main/rich_menu_id.json', 'r', encoding='utf-8'))\n",
    "# link_rich_menu_id = link_rich_menu_id['richMenuId']\n",
    "\n",
    "# #取得self_user_id\n",
    "# self_user_id = json.load(open('./line_secret_key', 'r', encoding='utf-8'))\n",
    "# self_user_id = self_user_id['self_user_id']\n",
    "\n",
    "# # 將菜單id與用戶id組合成遠端位置\n",
    "# linkMenuEndpoint = 'https://api.line.me/v2/bot/user/%s/richmenu/%s' % (self_user_id, link_rich_menu_id)\n",
    "\n",
    "# # 設定消息基本安全憑證\n",
    "# linkMenuRequestHeader = {'Content-Type':'image/jpeg','Authorization':'Bearer %s' % secretFileContentJson[\"channel_access_token\"]}\n",
    "\n",
    "# # 發送消息\n",
    "# lineLinkMenuResponse=requests.post(linkMenuEndpoint,headers=linkMenuRequestHeader)\n",
    "# print(lineLinkMenuResponse)\n",
    "# print(lineLinkMenuResponse.text)"
   ]
  },
  {
   "cell_type": "code",
   "execution_count": 4,
   "metadata": {},
   "outputs": [],
   "source": [
    "# 引用套件\n",
    "from linebot.models import (\n",
    "    FollowEvent\n",
    ")\n",
    "\n",
    "# 關注事件處理\n",
    "@handler.add(FollowEvent)\n",
    "def process_follow_event(event):\n",
    "    \n",
    "    result_message_array  = []\n",
    "    replyJsonPath = './material/follow/reply.json'\n",
    "    result_message_array = detect_json_array_to_message_array(replyJsonPath)\n",
    "    \n",
    "    line_bot_api.reply_message(\n",
    "        event.reply_token,\n",
    "        result_message_array\n",
    "    )"
   ]
  },
  {
   "cell_type": "code",
   "execution_count": null,
   "metadata": {
    "scrolled": true
   },
   "outputs": [
    {
     "name": "stdout",
     "output_type": "stream",
     "text": [
      " * Serving Flask app \"__main__\" (lazy loading)\n",
      " * Environment: production\n",
      "   WARNING: This is a development server. Do not use it in a production deployment.\n",
      "   Use a production WSGI server instead.\n",
      " * Debug mode: off\n"
     ]
    },
    {
     "name": "stderr",
     "output_type": "stream",
     "text": [
      " * Running on http://0.0.0.0:5000/ (Press CTRL+C to quit)\n",
      "127.0.0.1 - - [24/Sep/2019 00:37:21] \"POST / HTTP/1.1\" 200 -\n",
      "127.0.0.1 - - [24/Sep/2019 00:37:23] \"POST / HTTP/1.1\" 200 -\n"
     ]
    }
   ],
   "source": [
    "if __name__ == \"__main__\":\n",
    "    app.run(host='0.0.0.0')"
   ]
  },
  {
   "cell_type": "code",
   "execution_count": null,
   "metadata": {},
   "outputs": [],
   "source": []
  }
 ],
 "metadata": {
  "kernelspec": {
   "display_name": "Python 3",
   "language": "python",
   "name": "python3"
  },
  "language_info": {
   "codemirror_mode": {
    "name": "ipython",
    "version": 3
   },
   "file_extension": ".py",
   "mimetype": "text/x-python",
   "name": "python",
   "nbconvert_exporter": "python",
   "pygments_lexer": "ipython3",
   "version": "3.7.4"
  }
 },
 "nbformat": 4,
 "nbformat_minor": 1
}
