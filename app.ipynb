{
 "cells": [
  {
   "cell_type": "code",
   "execution_count": 1,
   "metadata": {},
   "outputs": [],
   "source": [
    "'''\n",
    "Application 主架構\n",
    "'''\n",
    "\n",
    "# 引用Web Server套件\n",
    "from flask import Flask, request, abort\n",
    "\n",
    "# 從linebot 套件包裡引用 LineBotApi 與 WebhookHandler 類別\n",
    "from linebot import (\n",
    "    LineBotApi, WebhookHandler\n",
    ")\n",
    "\n",
    "# 引用無效簽章錯誤\n",
    "from linebot.exceptions import (\n",
    "    InvalidSignatureError\n",
    ")\n",
    "\n",
    "# 載入json處理套件\n",
    "import json\n",
    "\n",
    "# 載入基礎設定檔\n",
    "secretFileContentJson = json.load(open('./line_secret_key', 'r', encoding='utf-8'))\n",
    "server_url = secretFileContentJson.get('server_url')\n",
    "channel_access_token = secretFileContentJson[\"channel_access_token\"]\n",
    "\n",
    "\n",
    "# 設定Server啟用細節\n",
    "app = Flask(__name__,static_url_path = \"/material\" , static_folder = \"./material/\")\n",
    "\n",
    "#生成實體物件\n",
    "line_bot_api = LineBotApi(secretFileContentJson.get('channel_access_token'))\n",
    "handler = WebhookHandler(secretFileContentJson.get(\"secret_key\"))\n",
    "\n",
    "# 啟動server對外接口，使Line能丟消息進來\n",
    "@app.route('/', methods=['POST'])\n",
    "def callback():\n",
    "    # get X-Line-Signature header value\n",
    "    signature = request.headers['X-Line-Signature']\n",
    "\n",
    "    # get request body as text\n",
    "    body = request.get_data(as_text=True)\n",
    "    app.logger.info(\"Request body: \" + body)\n",
    "\n",
    "    # handle webhook body\n",
    "    try:\n",
    "        handler.handle(body, signature)\n",
    "    except InvalidSignatureError:\n",
    "        abort(400)\n",
    "\n",
    "    return 'OK'\n"
   ]
  },
  {
   "cell_type": "code",
   "execution_count": 2,
   "metadata": {},
   "outputs": [],
   "source": [
    "'''\n",
    "消息判斷器\n",
    "\n",
    "讀取指定的json檔案後，把json解析成不同格式的SendMessage\n",
    "\n",
    "讀取檔案，\n",
    "把內容轉換成json\n",
    "將json轉換成消息\n",
    "放回array中，並把array傳出。\n",
    "'''\n",
    "\n",
    "# 引用會用到的套件\n",
    "from linebot.models import (\n",
    "    ImagemapSendMessage,TextSendMessage,ImageSendMessage,LocationSendMessage,FlexSendMessage\n",
    ")\n",
    "\n",
    "from linebot.models.template import (\n",
    "    ButtonsTemplate,CarouselTemplate,ConfirmTemplate,ImageCarouselTemplate\n",
    "    \n",
    ")\n",
    "\n",
    "from linebot.models.template import *\n",
    "\n",
    "def detect_json_array_to_message_array(fileName):\n",
    "    \n",
    "    #打開檔案轉成json格式\n",
    "    with open(fileName, encoding='utf-8') as f:\n",
    "        jsonArray = json.load(f)\n",
    "    \n",
    "    #解析json\n",
    "    returnArray = []\n",
    "    for jsonObject in jsonArray:\n",
    "        \n",
    "        # 讀取其用來判斷的元件\n",
    "        message_type = jsonObject.get('type')\n",
    "        \n",
    "        # 轉換\n",
    "        if message_type == 'text':\n",
    "            returnArray.append(TextSendMessage.new_from_json_dict(jsonObject))\n",
    "        elif message_type == 'imagemap':\n",
    "            returnArray.append(ImagemapSendMessage.new_from_json_dict(jsonObject))\n",
    "        elif message_type == 'template':\n",
    "            returnArray.append(TemplateSendMessage.new_from_json_dict(jsonObject))\n",
    "        elif message_type == 'carouselTemplate':\n",
    "            returnArray.append(LocationSendMessage.new_from_json_dict(jsonObject))\n",
    "        elif message_type == 'image':\n",
    "            returnArray.append(ImageSendMessage.new_from_json_dict(jsonObject))\n",
    "        elif message_type == 'sticker':\n",
    "            returnArray.append(StickerSendMessage.new_from_json_dict(jsonObject))  \n",
    "        elif message_type == 'audio':\n",
    "            returnArray.append(AudioSendMessage.new_from_json_dict(jsonObject))  \n",
    "        elif message_type == 'location':\n",
    "            returnArray.append(LocationSendMessage.new_from_json_dict(jsonObject))\n",
    "        elif message_type == 'flex':\n",
    "            returnArray.append(FlexSendMessage.new_from_json_dict(jsonObject))    \n",
    "\n",
    "    # 回傳\n",
    "    return returnArray\n",
    "        \n",
    "    \n",
    "    \n",
    "        "
   ]
  },
  {
   "cell_type": "code",
   "execution_count": 3,
   "metadata": {},
   "outputs": [],
   "source": [
    "'''\n",
    "\n",
    "準備QuickReply的Button\n",
    "\n",
    "\n",
    "'''\n",
    "\n",
    "# 引入相關套件\n",
    "from linebot.models import (\n",
    "    MessageAction, URIAction,\n",
    "    PostbackAction, DatetimePickerAction,\n",
    "    CameraAction, CameraRollAction, LocationAction,\n",
    "    QuickReply, QuickReplyButton\n",
    ")\n",
    "\n",
    "\n",
    "\n",
    "uriQuickReplyButton = QuickReplyButton(\n",
    "    action=URIAction(\n",
    "        label=\"西甲\", \n",
    "        uri=\"line://app/1614188410-mgw5LXGz\"\n",
    "    )\n",
    ")\n",
    "\n",
    "textQuickReplyButton = QuickReplyButton(\n",
    "    action=MessageAction(\n",
    "        label=\"發送文字消息\", \n",
    "        text=\"line://app/1614188410-mgw5LXGz\"\n",
    "    )\n",
    ")"
   ]
  },
  {
   "cell_type": "code",
   "execution_count": 4,
   "metadata": {},
   "outputs": [],
   "source": [
    "quickReplyList = QuickReply(\n",
    "    items = [textQuickReplyButton, uriQuickReplyButton]\n",
    ")"
   ]
  },
  {
   "cell_type": "code",
   "execution_count": 5,
   "metadata": {},
   "outputs": [],
   "source": [
    "'''\n",
    "\n",
    "製作TextSendMessage，並將剛封裝的QuickReply放入\n",
    "\n",
    "'''\n",
    "## 將quickReplyList 塞入TextSendMessage 中 \n",
    "from linebot.models import (\n",
    "    TextSendMessage\n",
    ")\n",
    "quickReplyTextSendMessage = TextSendMessage(text='發送問題給用戶，請用戶回答', quick_reply=quickReplyList)"
   ]
  },
  {
   "cell_type": "code",
   "execution_count": 6,
   "metadata": {},
   "outputs": [
    {
     "data": {
      "text/plain": [
       "'\\n將選單綁定到特定用戶上\\n\\n取得rich_menu_id\\n取得self_user_id\\n設定line的遠端位置\\n設定消息的基本安全驗證\\n發送消息告知\\n\\n'"
      ]
     },
     "execution_count": 6,
     "metadata": {},
     "output_type": "execute_result"
    }
   ],
   "source": [
    "'''\n",
    "將選單綁定到特定用戶上\n",
    "\n",
    "取得rich_menu_id\n",
    "取得self_user_id\n",
    "設定line的遠端位置\n",
    "設定消息的基本安全驗證\n",
    "發送消息告知\n",
    "\n",
    "'''\n",
    "# #取得rich_menu_id\n",
    "# link_rich_menu_id = json.load(open('./material/rich_menu/rich_menu_main/rich_menu_id.json', 'r', encoding='utf-8'))\n",
    "# link_rich_menu_id = link_rich_menu_id['richMenuId']\n",
    "\n",
    "# #取得self_user_id\n",
    "# self_user_id = json.load(open('./line_secret_key', 'r', encoding='utf-8'))\n",
    "# self_user_id = self_user_id['self_user_id']\n",
    "\n",
    "# # 將菜單id與用戶id組合成遠端位置\n",
    "# linkMenuEndpoint = 'https://api.line.me/v2/bot/user/%s/richmenu/%s' % (self_user_id, link_rich_menu_id)\n",
    "\n",
    "# # 設定消息基本安全憑證\n",
    "# linkMenuRequestHeader = {'Content-Type':'image/jpeg','Authorization':'Bearer %s' % secretFileContentJson[\"channel_access_token\"]}\n",
    "\n",
    "# # 發送消息\n",
    "# lineLinkMenuResponse=requests.post(linkMenuEndpoint,headers=linkMenuRequestHeader)\n",
    "# print(lineLinkMenuResponse)\n",
    "# print(lineLinkMenuResponse.text)"
   ]
  },
  {
   "cell_type": "code",
   "execution_count": 7,
   "metadata": {},
   "outputs": [],
   "source": [
    "'''\n",
    "Button篇\n",
    "    設定模板消息，指定其參數細節。\n",
    "\n",
    "'''\n",
    "\n",
    "\n",
    "#引入所需要的消息與模板消息\n",
    "from linebot.models import (\n",
    "    MessageEvent, TemplateSendMessage , PostbackEvent\n",
    ")\n",
    "\n",
    "#引入按鍵模板\n",
    "from linebot.models.template import(\n",
    "    ButtonsTemplate,CarouselTemplate\n",
    ")\n",
    "\n",
    "\n",
    "'''\n",
    "alt_text: Line簡覽視窗所出現的說明文字\n",
    "template: 所使用的模板\n",
    "ButtonsTemplate: 按鍵模板\n",
    "    thumbnail_image_url: 展示圖片\n",
    "    title: 標題\n",
    "    text: 說明文字\n",
    "    actions: 模板行為所使用的行為\n",
    "    data: 觸發postback後用戶回傳值，可以對其做商業邏輯處理\n",
    "\n",
    "'''\n",
    "buttons_template_message = TemplateSendMessage(\n",
    "    alt_text='Buttons template',\n",
    "    template=ButtonsTemplate(\n",
    "        title='Adidas  F50 FG(2015)',\n",
    "        text='請點擊下方按鈕獲得更多幫助',\n",
    "        actions=[\n",
    "          {\n",
    "            \"type\": \"postback\",\n",
    "            \"label\": \"企業，查找商業結合方案\",\n",
    "            \"text\": \"[::text:]尋找BD\",\n",
    "            \"data\": \"Data1\"\n",
    "          },\n",
    "          {\n",
    "            \"type\": \"postback\",\n",
    "            \"label\": \"開發者，尋求教學\",\n",
    "            \"text\": \"[::text:]求助專家\",\n",
    "            \"data\": \"Data2\"\n",
    "          }\n",
    "        ],\n",
    ")\n",
    ")"
   ]
  },
  {
   "cell_type": "code",
   "execution_count": 8,
   "metadata": {},
   "outputs": [],
   "source": [
    "import json\n",
    "def create_carousel_template_bott(replyJsonPath): \n",
    "    replyJson = json.load(open(replyJsonPath, 'r', encoding='utf-8'))\n",
    "    cols = replyJson['columns']\n",
    "    Carousel_template = TemplateSendMessage(\n",
    "        alt_text='Carousel template',\n",
    "        template=CarouselTemplate(\n",
    "            columns=[\n",
    "                CarouselColumn(\n",
    "                    thumbnail_image_url=replyJson['columns'][0]['thumbnailImageUrl'],\n",
    "                    title=replyJson['columns'][0]['title'],\n",
    "                    text=replyJson['columns'][0]['text'],\n",
    "                    actions=[\n",
    "                        MessageTemplateAction(\n",
    "                            label=replyJson['columns'][0]['action'][0]['label'],\n",
    "                            text=replyJson['columns'][0]['action'][0]['text'],\n",
    "                        ),\n",
    "                        URITemplateAction(\n",
    "                            label=replyJson['columns'][0]['action'][1]['label'],\n",
    "                            uri=replyJson['columns'][0]['action'][1]['uri']\n",
    "                        )\n",
    "                    ]\n",
    "                ),\n",
    "                CarouselColumn(\n",
    "                    thumbnail_image_url=replyJson['columns'][1]['thumbnailImageUrl'],\n",
    "                    title=replyJson['columns'][1]['title'],\n",
    "                    text=replyJson['columns'][1]['text'],\n",
    "                    actions=[\n",
    "                        MessageTemplateAction(\n",
    "                            label=replyJson['columns'][1]['action'][0]['label'],\n",
    "                            text=replyJson['columns'][1]['action'][0]['text'],\n",
    "                        ),\n",
    "                        URITemplateAction(\n",
    "                            label=replyJson['columns'][1]['action'][1]['label'],\n",
    "                            uri=replyJson['columns'][1]['action'][1]['uri']\n",
    "                        )\n",
    "                    ]\n",
    "                ),\n",
    "                CarouselColumn(\n",
    "                    thumbnail_image_url=replyJson['columns'][2]['thumbnailImageUrl'],\n",
    "                    title=replyJson['columns'][2]['title'],\n",
    "                    text=replyJson['columns'][2]['text'],\n",
    "                    actions=[\n",
    "                        MessageTemplateAction(\n",
    "                            label=replyJson['columns'][2]['action'][0]['label'],\n",
    "                            text=replyJson['columns'][2]['action'][0]['text'],\n",
    "                        ),\n",
    "                        URITemplateAction(\n",
    "                            label=replyJson['columns'][2]['action'][1]['label'],\n",
    "                            uri=replyJson['columns'][2]['action'][1]['uri']\n",
    "                        )\n",
    "                    ]\n",
    "                )\n",
    "            ]\n",
    "        )\n",
    "    )"
   ]
  },
  {
   "cell_type": "code",
   "execution_count": 9,
   "metadata": {},
   "outputs": [],
   "source": [
    "# 引用套件\n",
    "from linebot.models import (\n",
    "    FollowEvent\n",
    ")\n",
    "\n",
    "# 關注事件處理\n",
    "@handler.add(FollowEvent)\n",
    "def process_follow_event(event):\n",
    "    \n",
    "    result_message_array  = []\n",
    "    replyJsonPath = './material/follow/reply.json'\n",
    "    result_message_array = detect_json_array_to_message_array(replyJsonPath)\n",
    "    \n",
    "    line_bot_api.reply_message(\n",
    "        event.reply_token,\n",
    "        result_message_array\n",
    "    )"
   ]
  },
  {
   "cell_type": "code",
   "execution_count": 10,
   "metadata": {},
   "outputs": [],
   "source": [
    "from linebot.models import (\n",
    "    PostbackEvent\n",
    ")\n",
    "\n",
    "from urllib.parse import parse_qs\n",
    "\n",
    "@handler.add(PostbackEvent)\n",
    "def process_post_back_event(event):\n",
    "\n",
    "    query_string_list = parse_qs(event.postback.data)\n",
    "    print(query_string_list)\n",
    "    if 'change_menu' in query_string_list:\n",
    "        \n",
    "        #將用戶與另一張圖文選單綁定\n",
    "        Path = './material/rich_menu/rich_menu_' + query_string_list['change_menu'][0]\n",
    "        linkRichMenuId = json.load(open(Path + '/rich_menu_id.json', 'r', encoding='utf-8'))['richMenuId']\n",
    "        line_bot_api.link_rich_menu_to_user(event.source.user_id, linkRichMenuId)\n",
    "        \n",
    "        #回傳訊息\n",
    "        replyJsonPath = './material/rich_menu/' + query_string_list['change_menu'][0] + '_reply'\n",
    "        result_message_array = detect_json_array_to_message_array(replyJsonPath + '/reply.json')\n",
    "        line_bot_api.reply_message(\n",
    "            event.reply_token,\n",
    "            result_message_array\n",
    "        )\n",
    "    elif 'quick_reply' in query_string_list:\n",
    "        replyJsonPath = './material/rich_menu/rich_menu_' + query_string_list['change_menu']\n",
    "        print(query_string_list)\n",
    "        print(query_string_list['quick_reply'])\n",
    "    elif 'shoes_type' in query_string_list:\n",
    "        replyJsonPath = './material/rich_menu/shoes_reply/' + query_string_list['shoes_type'][0]\n",
    "        result_message_array = detect_json_array_to_message_array(replyJsonPath + '/reply.json')\n",
    "        line_bot_api.reply_message(\n",
    "            event.reply_token,\n",
    "            result_message_array\n",
    "        )\n",
    "        #重新綁定主要圖文選單\n",
    "        Path = './material/rich_menu/rich_menu_main'\n",
    "        linkRichMenuId = json.load(open(Path + '/rich_menu_id.json', 'r', encoding='utf-8'))['richMenuId']\n",
    "        line_bot_api.link_rich_menu_to_user(event.source.user_id, linkRichMenuId)\n",
    "    elif 'schedule_league' in query_string_list:\n",
    "        print(query_string_list)\n",
    "        replyJsonPath = './material/rich_menu/schedule_reply/' + query_string_list['schedule_league'][0]\n",
    "        print(replyJsonPath)\n",
    "        result_message_array = detect_json_array_to_message_array(replyJsonPath + '/reply.json')\n",
    "        print(result_message_array)\n",
    "        line_bot_api.reply_message(\n",
    "            event.reply_token,\n",
    "            result_message_array\n",
    "        )\n",
    "        Path = './material/rich_menu/rich_menu_main'\n",
    "        linkRichMenuId = json.load(open(Path + '/rich_menu_id.json', 'r', encoding='utf-8'))['richMenuId']\n",
    "        line_bot_api.link_rich_menu_to_user(event.source.user_id, linkRichMenuId)\n"
   ]
  },
  {
   "cell_type": "code",
   "execution_count": 11,
   "metadata": {},
   "outputs": [],
   "source": [
    "from linebot.models import (\n",
    "    MessageEvent, TextMessage, TextSendMessage,\n",
    ")\n",
    "\n",
    "# @handler.add(MessageEvent, message=TextMessage)\n",
    "# def handle_message(event):\n",
    "#     line_bot_api.reply_message(\n",
    "#         event.reply_token,\n",
    "#         quickReplyTextSendMessage\n",
    "#     )\n"
   ]
  },
  {
   "cell_type": "code",
   "execution_count": null,
   "metadata": {
    "scrolled": true
   },
   "outputs": [
    {
     "name": "stdout",
     "output_type": "stream",
     "text": [
      " * Serving Flask app \"__main__\" (lazy loading)\n",
      " * Environment: production\n",
      "   WARNING: This is a development server. Do not use it in a production deployment.\n",
      "   Use a production WSGI server instead.\n",
      " * Debug mode: off\n"
     ]
    },
    {
     "name": "stderr",
     "output_type": "stream",
     "text": [
      " * Running on http://0.0.0.0:5000/ (Press CTRL+C to quit)\n",
      "127.0.0.1 - - [27/Sep/2019 16:02:01] \"POST / HTTP/1.1\" 200 -\n"
     ]
    },
    {
     "name": "stdout",
     "output_type": "stream",
     "text": [
      "{'change_menu': ['schedule']}\n"
     ]
    },
    {
     "name": "stderr",
     "output_type": "stream",
     "text": [
      "[2019-09-27 16:02:03,191] ERROR in app: Exception on / [POST]\n",
      "Traceback (most recent call last):\n",
      "  File \"c:\\users\\user\\appdata\\local\\programs\\python\\python37\\lib\\site-packages\\flask\\app.py\", line 2446, in wsgi_app\n",
      "    response = self.full_dispatch_request()\n",
      "  File \"c:\\users\\user\\appdata\\local\\programs\\python\\python37\\lib\\site-packages\\flask\\app.py\", line 1951, in full_dispatch_request\n",
      "    rv = self.handle_user_exception(e)\n",
      "  File \"c:\\users\\user\\appdata\\local\\programs\\python\\python37\\lib\\site-packages\\flask\\app.py\", line 1820, in handle_user_exception\n",
      "    reraise(exc_type, exc_value, tb)\n",
      "  File \"c:\\users\\user\\appdata\\local\\programs\\python\\python37\\lib\\site-packages\\flask\\_compat.py\", line 39, in reraise\n",
      "    raise value\n",
      "  File \"c:\\users\\user\\appdata\\local\\programs\\python\\python37\\lib\\site-packages\\flask\\app.py\", line 1949, in full_dispatch_request\n",
      "    rv = self.dispatch_request()\n",
      "  File \"c:\\users\\user\\appdata\\local\\programs\\python\\python37\\lib\\site-packages\\flask\\app.py\", line 1935, in dispatch_request\n",
      "    return self.view_functions[rule.endpoint](**req.view_args)\n",
      "  File \"<ipython-input-1-b4e66f45ba48>\", line 46, in callback\n",
      "    handler.handle(body, signature)\n",
      "  File \"c:\\users\\user\\appdata\\local\\programs\\python\\python37\\lib\\site-packages\\linebot\\webhook.py\", line 260, in handle\n",
      "    func(event)\n",
      "  File \"<ipython-input-10-323502bb0534>\", line 21, in process_post_back_event\n",
      "    result_message_array = detect_json_array_to_message_array(replyJsonPath + '/reply.json')\n",
      "  File \"<ipython-input-2-4f72c8ba67a9>\", line 27, in detect_json_array_to_message_array\n",
      "    with open(fileName, encoding='utf-8') as f:\n",
      "FileNotFoundError: [Errno 2] No such file or directory: './material/rich_menu/schedule_reply/reply.json'\n",
      "127.0.0.1 - - [27/Sep/2019 16:02:03] \"POST / HTTP/1.1\" 500 -\n",
      "127.0.0.1 - - [27/Sep/2019 16:02:04] \"POST / HTTP/1.1\" 200 -\n"
     ]
    },
    {
     "name": "stdout",
     "output_type": "stream",
     "text": [
      "{'schedule_league': ['spain']}\n",
      "{'schedule_league': ['spain']}\n",
      "./material/rich_menu/schedule_reply/spain\n",
      "[{\"text\": \"\\u897f\\u7532\\u8cfd\\u7a0b: \\nline://app/1614188410-kZnJDzqe\", \"type\": \"text\"}, {\"text\": \"\\u5982\\u679c\\u9700\\u8981\\u5176\\u4ed6\\u670d\\u52d9\\u8acb\\u91cd\\u65b0\\u9ede\\u9078\\u9078\\u55ae0.<\", \"type\": \"text\"}]\n"
     ]
    },
    {
     "name": "stderr",
     "output_type": "stream",
     "text": [
      "127.0.0.1 - - [27/Sep/2019 16:02:05] \"POST / HTTP/1.1\" 200 -\n",
      "[2019-09-27 16:02:08,399] ERROR in app: Exception on / [POST]\n",
      "Traceback (most recent call last):\n",
      "  File \"c:\\users\\user\\appdata\\local\\programs\\python\\python37\\lib\\site-packages\\flask\\app.py\", line 2446, in wsgi_app\n",
      "    response = self.full_dispatch_request()\n",
      "  File \"c:\\users\\user\\appdata\\local\\programs\\python\\python37\\lib\\site-packages\\flask\\app.py\", line 1951, in full_dispatch_request\n",
      "    rv = self.handle_user_exception(e)\n",
      "  File \"c:\\users\\user\\appdata\\local\\programs\\python\\python37\\lib\\site-packages\\flask\\app.py\", line 1820, in handle_user_exception\n",
      "    reraise(exc_type, exc_value, tb)\n",
      "  File \"c:\\users\\user\\appdata\\local\\programs\\python\\python37\\lib\\site-packages\\flask\\_compat.py\", line 39, in reraise\n",
      "    raise value\n",
      "  File \"c:\\users\\user\\appdata\\local\\programs\\python\\python37\\lib\\site-packages\\flask\\app.py\", line 1949, in full_dispatch_request\n",
      "    rv = self.dispatch_request()\n",
      "  File \"c:\\users\\user\\appdata\\local\\programs\\python\\python37\\lib\\site-packages\\flask\\app.py\", line 1935, in dispatch_request\n",
      "    return self.view_functions[rule.endpoint](**req.view_args)\n",
      "  File \"<ipython-input-1-b4e66f45ba48>\", line 46, in callback\n",
      "    handler.handle(body, signature)\n",
      "  File \"c:\\users\\user\\appdata\\local\\programs\\python\\python37\\lib\\site-packages\\linebot\\webhook.py\", line 260, in handle\n",
      "    func(event)\n",
      "  File \"<ipython-input-10-323502bb0534>\", line 21, in process_post_back_event\n",
      "    result_message_array = detect_json_array_to_message_array(replyJsonPath + '/reply.json')\n",
      "  File \"<ipython-input-2-4f72c8ba67a9>\", line 27, in detect_json_array_to_message_array\n",
      "    with open(fileName, encoding='utf-8') as f:\n",
      "FileNotFoundError: [Errno 2] No such file or directory: './material/rich_menu/schedule_reply/reply.json'\n",
      "127.0.0.1 - - [27/Sep/2019 16:02:08] \"POST / HTTP/1.1\" 500 -\n"
     ]
    },
    {
     "name": "stdout",
     "output_type": "stream",
     "text": [
      "{'change_menu': ['schedule']}\n"
     ]
    },
    {
     "name": "stderr",
     "output_type": "stream",
     "text": [
      "127.0.0.1 - - [27/Sep/2019 16:02:09] \"POST / HTTP/1.1\" 200 -\n"
     ]
    },
    {
     "name": "stdout",
     "output_type": "stream",
     "text": [
      "{'schedule_league': ['germany']}\n",
      "{'schedule_league': ['germany']}\n",
      "./material/rich_menu/schedule_reply/germany\n",
      "[{\"text\": \"\\u5fb7\\u7532\\u8cfd\\u7a0b: \\nline://app/1614188410-bZMYLjlp\", \"type\": \"text\"}, {\"text\": \"\\u5982\\u679c\\u9700\\u8981\\u5176\\u4ed6\\u670d\\u52d9\\u8acb\\u91cd\\u65b0\\u9ede\\u9078\\u9078\\u55ae0.<\", \"type\": \"text\"}]\n"
     ]
    },
    {
     "name": "stderr",
     "output_type": "stream",
     "text": [
      "127.0.0.1 - - [27/Sep/2019 16:02:10] \"POST / HTTP/1.1\" 200 -\n",
      "127.0.0.1 - - [27/Sep/2019 16:02:11] \"POST / HTTP/1.1\" 200 -\n",
      "127.0.0.1 - - [27/Sep/2019 16:02:13] \"POST / HTTP/1.1\" 200 -\n",
      "[2019-09-27 16:02:14,388] ERROR in app: Exception on / [POST]\n",
      "Traceback (most recent call last):\n",
      "  File \"c:\\users\\user\\appdata\\local\\programs\\python\\python37\\lib\\site-packages\\flask\\app.py\", line 2446, in wsgi_app\n",
      "    response = self.full_dispatch_request()\n",
      "  File \"c:\\users\\user\\appdata\\local\\programs\\python\\python37\\lib\\site-packages\\flask\\app.py\", line 1951, in full_dispatch_request\n",
      "    rv = self.handle_user_exception(e)\n",
      "  File \"c:\\users\\user\\appdata\\local\\programs\\python\\python37\\lib\\site-packages\\flask\\app.py\", line 1820, in handle_user_exception\n",
      "    reraise(exc_type, exc_value, tb)\n",
      "  File \"c:\\users\\user\\appdata\\local\\programs\\python\\python37\\lib\\site-packages\\flask\\_compat.py\", line 39, in reraise\n",
      "    raise value\n",
      "  File \"c:\\users\\user\\appdata\\local\\programs\\python\\python37\\lib\\site-packages\\flask\\app.py\", line 1949, in full_dispatch_request\n",
      "    rv = self.dispatch_request()\n",
      "  File \"c:\\users\\user\\appdata\\local\\programs\\python\\python37\\lib\\site-packages\\flask\\app.py\", line 1935, in dispatch_request\n",
      "    return self.view_functions[rule.endpoint](**req.view_args)\n",
      "  File \"<ipython-input-1-b4e66f45ba48>\", line 46, in callback\n",
      "    handler.handle(body, signature)\n",
      "  File \"c:\\users\\user\\appdata\\local\\programs\\python\\python37\\lib\\site-packages\\linebot\\webhook.py\", line 260, in handle\n",
      "    func(event)\n",
      "  File \"<ipython-input-10-323502bb0534>\", line 21, in process_post_back_event\n",
      "    result_message_array = detect_json_array_to_message_array(replyJsonPath + '/reply.json')\n",
      "  File \"<ipython-input-2-4f72c8ba67a9>\", line 27, in detect_json_array_to_message_array\n",
      "    with open(fileName, encoding='utf-8') as f:\n",
      "FileNotFoundError: [Errno 2] No such file or directory: './material/rich_menu/schedule_reply/reply.json'\n"
     ]
    },
    {
     "name": "stdout",
     "output_type": "stream",
     "text": [
      "{'change_menu': ['schedule']}\n"
     ]
    },
    {
     "name": "stderr",
     "output_type": "stream",
     "text": [
      "127.0.0.1 - - [27/Sep/2019 16:02:14] \"POST / HTTP/1.1\" 500 -\n"
     ]
    },
    {
     "name": "stdout",
     "output_type": "stream",
     "text": [
      "{'schedule_league': ['england']}\n",
      "{'schedule_league': ['england']}\n",
      "./material/rich_menu/schedule_reply/england\n",
      "[{\"text\": \"\\u82f1\\u8d85\\u8cfd\\u7a0b: \\nline://app/1614188410-Aw05mQdv\", \"type\": \"text\"}, {\"text\": \"\\u5982\\u679c\\u9700\\u8981\\u5176\\u4ed6\\u670d\\u52d9\\u8acb\\u91cd\\u65b0\\u9ede\\u9078\\u9078\\u55ae0.<\", \"type\": \"text\"}]\n"
     ]
    },
    {
     "name": "stderr",
     "output_type": "stream",
     "text": [
      "127.0.0.1 - - [27/Sep/2019 16:02:16] \"POST / HTTP/1.1\" 200 -\n",
      "127.0.0.1 - - [27/Sep/2019 16:02:17] \"POST / HTTP/1.1\" 200 -\n",
      "[2019-09-27 16:02:25,067] ERROR in app: Exception on / [POST]\n",
      "Traceback (most recent call last):\n",
      "  File \"c:\\users\\user\\appdata\\local\\programs\\python\\python37\\lib\\site-packages\\flask\\app.py\", line 2446, in wsgi_app\n",
      "    response = self.full_dispatch_request()\n",
      "  File \"c:\\users\\user\\appdata\\local\\programs\\python\\python37\\lib\\site-packages\\flask\\app.py\", line 1951, in full_dispatch_request\n",
      "    rv = self.handle_user_exception(e)\n",
      "  File \"c:\\users\\user\\appdata\\local\\programs\\python\\python37\\lib\\site-packages\\flask\\app.py\", line 1820, in handle_user_exception\n",
      "    reraise(exc_type, exc_value, tb)\n",
      "  File \"c:\\users\\user\\appdata\\local\\programs\\python\\python37\\lib\\site-packages\\flask\\_compat.py\", line 39, in reraise\n",
      "    raise value\n",
      "  File \"c:\\users\\user\\appdata\\local\\programs\\python\\python37\\lib\\site-packages\\flask\\app.py\", line 1949, in full_dispatch_request\n",
      "    rv = self.dispatch_request()\n",
      "  File \"c:\\users\\user\\appdata\\local\\programs\\python\\python37\\lib\\site-packages\\flask\\app.py\", line 1935, in dispatch_request\n",
      "    return self.view_functions[rule.endpoint](**req.view_args)\n",
      "  File \"<ipython-input-1-b4e66f45ba48>\", line 46, in callback\n",
      "    handler.handle(body, signature)\n",
      "  File \"c:\\users\\user\\appdata\\local\\programs\\python\\python37\\lib\\site-packages\\linebot\\webhook.py\", line 260, in handle\n",
      "    func(event)\n",
      "  File \"<ipython-input-10-323502bb0534>\", line 21, in process_post_back_event\n",
      "    result_message_array = detect_json_array_to_message_array(replyJsonPath + '/reply.json')\n",
      "  File \"<ipython-input-2-4f72c8ba67a9>\", line 27, in detect_json_array_to_message_array\n",
      "    with open(fileName, encoding='utf-8') as f:\n",
      "FileNotFoundError: [Errno 2] No such file or directory: './material/rich_menu/schedule_reply/reply.json'\n",
      "127.0.0.1 - - [27/Sep/2019 16:02:25] \"POST / HTTP/1.1\" 500 -\n"
     ]
    },
    {
     "name": "stdout",
     "output_type": "stream",
     "text": [
      "{'change_menu': ['schedule']}\n"
     ]
    },
    {
     "name": "stderr",
     "output_type": "stream",
     "text": [
      "127.0.0.1 - - [27/Sep/2019 16:02:25] \"POST / HTTP/1.1\" 200 -\n"
     ]
    },
    {
     "name": "stdout",
     "output_type": "stream",
     "text": [
      "{'schedule_league': ['italy']}\n",
      "{'schedule_league': ['italy']}\n",
      "./material/rich_menu/schedule_reply/italy\n",
      "[{\"text\": \"\\u7fa9\\u7532\\u8cfd\\u7a0b: \\nline://app/1614188410-e2xpGQPk\", \"type\": \"text\"}, {\"text\": \"\\u5982\\u679c\\u9700\\u8981\\u5176\\u4ed6\\u670d\\u52d9\\u8acb\\u91cd\\u65b0\\u9ede\\u9078\\u9078\\u55ae0.<\", \"type\": \"text\"}]\n"
     ]
    },
    {
     "name": "stderr",
     "output_type": "stream",
     "text": [
      "127.0.0.1 - - [27/Sep/2019 16:02:27] \"POST / HTTP/1.1\" 200 -\n",
      "127.0.0.1 - - [27/Sep/2019 16:02:28] \"POST / HTTP/1.1\" 200 -\n",
      "127.0.0.1 - - [27/Sep/2019 16:02:29] \"POST / HTTP/1.1\" 200 -\n",
      "[2019-09-27 16:02:30,794] ERROR in app: Exception on / [POST]\n",
      "Traceback (most recent call last):\n",
      "  File \"c:\\users\\user\\appdata\\local\\programs\\python\\python37\\lib\\site-packages\\flask\\app.py\", line 2446, in wsgi_app\n",
      "    response = self.full_dispatch_request()\n",
      "  File \"c:\\users\\user\\appdata\\local\\programs\\python\\python37\\lib\\site-packages\\flask\\app.py\", line 1951, in full_dispatch_request\n",
      "    rv = self.handle_user_exception(e)\n",
      "  File \"c:\\users\\user\\appdata\\local\\programs\\python\\python37\\lib\\site-packages\\flask\\app.py\", line 1820, in handle_user_exception\n",
      "    reraise(exc_type, exc_value, tb)\n",
      "  File \"c:\\users\\user\\appdata\\local\\programs\\python\\python37\\lib\\site-packages\\flask\\_compat.py\", line 39, in reraise\n",
      "    raise value\n",
      "  File \"c:\\users\\user\\appdata\\local\\programs\\python\\python37\\lib\\site-packages\\flask\\app.py\", line 1949, in full_dispatch_request\n",
      "    rv = self.dispatch_request()\n",
      "  File \"c:\\users\\user\\appdata\\local\\programs\\python\\python37\\lib\\site-packages\\flask\\app.py\", line 1935, in dispatch_request\n",
      "    return self.view_functions[rule.endpoint](**req.view_args)\n",
      "  File \"<ipython-input-1-b4e66f45ba48>\", line 46, in callback\n",
      "    handler.handle(body, signature)\n",
      "  File \"c:\\users\\user\\appdata\\local\\programs\\python\\python37\\lib\\site-packages\\linebot\\webhook.py\", line 260, in handle\n",
      "    func(event)\n",
      "  File \"<ipython-input-10-323502bb0534>\", line 21, in process_post_back_event\n",
      "    result_message_array = detect_json_array_to_message_array(replyJsonPath + '/reply.json')\n",
      "  File \"<ipython-input-2-4f72c8ba67a9>\", line 27, in detect_json_array_to_message_array\n",
      "    with open(fileName, encoding='utf-8') as f:\n",
      "FileNotFoundError: [Errno 2] No such file or directory: './material/rich_menu/schedule_reply/reply.json'\n",
      "127.0.0.1 - - [27/Sep/2019 16:02:30] \"POST / HTTP/1.1\" 500 -\n"
     ]
    },
    {
     "name": "stdout",
     "output_type": "stream",
     "text": [
      "{'change_menu': ['schedule']}\n",
      "{'schedule_league': ['uefa']}\n",
      "{'schedule_league': ['uefa']}\n",
      "./material/rich_menu/schedule_reply/uefa\n",
      "[{\"text\": \"\\u6b50\\u51a0\\u8cfd\\u7a0b: \\nline://app/1614188410-lr6rQ5Mn\", \"type\": \"text\"}, {\"text\": \"\\u5982\\u679c\\u9700\\u8981\\u5176\\u4ed6\\u670d\\u52d9\\u8acb\\u91cd\\u65b0\\u9ede\\u9078\\u9078\\u55ae0.<\", \"type\": \"text\"}]\n"
     ]
    },
    {
     "name": "stderr",
     "output_type": "stream",
     "text": [
      "127.0.0.1 - - [27/Sep/2019 16:02:32] \"POST / HTTP/1.1\" 200 -\n",
      "127.0.0.1 - - [27/Sep/2019 16:02:33] \"POST / HTTP/1.1\" 200 -\n",
      "[2019-09-27 16:02:35,195] ERROR in app: Exception on / [POST]\n",
      "Traceback (most recent call last):\n",
      "  File \"c:\\users\\user\\appdata\\local\\programs\\python\\python37\\lib\\site-packages\\flask\\app.py\", line 2446, in wsgi_app\n",
      "    response = self.full_dispatch_request()\n",
      "  File \"c:\\users\\user\\appdata\\local\\programs\\python\\python37\\lib\\site-packages\\flask\\app.py\", line 1951, in full_dispatch_request\n",
      "    rv = self.handle_user_exception(e)\n",
      "  File \"c:\\users\\user\\appdata\\local\\programs\\python\\python37\\lib\\site-packages\\flask\\app.py\", line 1820, in handle_user_exception\n",
      "    reraise(exc_type, exc_value, tb)\n",
      "  File \"c:\\users\\user\\appdata\\local\\programs\\python\\python37\\lib\\site-packages\\flask\\_compat.py\", line 39, in reraise\n",
      "    raise value\n",
      "  File \"c:\\users\\user\\appdata\\local\\programs\\python\\python37\\lib\\site-packages\\flask\\app.py\", line 1949, in full_dispatch_request\n",
      "    rv = self.dispatch_request()\n",
      "  File \"c:\\users\\user\\appdata\\local\\programs\\python\\python37\\lib\\site-packages\\flask\\app.py\", line 1935, in dispatch_request\n",
      "    return self.view_functions[rule.endpoint](**req.view_args)\n",
      "  File \"<ipython-input-1-b4e66f45ba48>\", line 46, in callback\n",
      "    handler.handle(body, signature)\n",
      "  File \"c:\\users\\user\\appdata\\local\\programs\\python\\python37\\lib\\site-packages\\linebot\\webhook.py\", line 260, in handle\n",
      "    func(event)\n",
      "  File \"<ipython-input-10-323502bb0534>\", line 21, in process_post_back_event\n",
      "    result_message_array = detect_json_array_to_message_array(replyJsonPath + '/reply.json')\n",
      "  File \"<ipython-input-2-4f72c8ba67a9>\", line 27, in detect_json_array_to_message_array\n",
      "    with open(fileName, encoding='utf-8') as f:\n",
      "FileNotFoundError: [Errno 2] No such file or directory: './material/rich_menu/schedule_reply/reply.json'\n",
      "127.0.0.1 - - [27/Sep/2019 16:02:35] \"POST / HTTP/1.1\" 500 -\n"
     ]
    },
    {
     "name": "stdout",
     "output_type": "stream",
     "text": [
      "{'change_menu': ['schedule']}\n"
     ]
    },
    {
     "name": "stderr",
     "output_type": "stream",
     "text": [
      "127.0.0.1 - - [27/Sep/2019 16:02:36] \"POST / HTTP/1.1\" 200 -\n"
     ]
    },
    {
     "name": "stdout",
     "output_type": "stream",
     "text": [
      "{'schedule_league': ['france']}\n",
      "{'schedule_league': ['france']}\n",
      "./material/rich_menu/schedule_reply/france\n",
      "[{\"text\": \"\\u6cd5\\u7532\\u8cfd\\u7a0b: \\nline://app/1614188410-aEnoM1Jm\", \"type\": \"text\"}, {\"text\": \"\\u5982\\u679c\\u9700\\u8981\\u5176\\u4ed6\\u670d\\u52d9\\u8acb\\u91cd\\u65b0\\u9ede\\u9078\\u9078\\u55ae0.<\", \"type\": \"text\"}]\n"
     ]
    },
    {
     "name": "stderr",
     "output_type": "stream",
     "text": [
      "127.0.0.1 - - [27/Sep/2019 16:02:37] \"POST / HTTP/1.1\" 200 -\n",
      "127.0.0.1 - - [27/Sep/2019 16:02:38] \"POST / HTTP/1.1\" 200 -\n"
     ]
    }
   ],
   "source": [
    "if __name__ == \"__main__\":\n",
    "    app.run(host='0.0.0.0')"
   ]
  },
  {
   "cell_type": "code",
   "execution_count": null,
   "metadata": {},
   "outputs": [],
   "source": []
  }
 ],
 "metadata": {
  "kernelspec": {
   "display_name": "Python 3",
   "language": "python",
   "name": "python3"
  },
  "language_info": {
   "codemirror_mode": {
    "name": "ipython",
    "version": 3
   },
   "file_extension": ".py",
   "mimetype": "text/x-python",
   "name": "python",
   "nbconvert_exporter": "python",
   "pygments_lexer": "ipython3",
   "version": "3.7.4"
  }
 },
 "nbformat": 4,
 "nbformat_minor": 1
}
