{
 "cells": [
  {
   "cell_type": "code",
   "execution_count": 1,
   "metadata": {},
   "outputs": [],
   "source": [
    "'''\n",
    "Application 主架構\n",
    "'''\n",
    "\n",
    "# 引用Web Server套件\n",
    "from flask import Flask, request, abort\n",
    "\n",
    "# 從linebot 套件包裡引用 LineBotApi 與 WebhookHandler 類別\n",
    "from linebot import (\n",
    "    LineBotApi, WebhookHandler\n",
    ")\n",
    "\n",
    "# 引用無效簽章錯誤\n",
    "from linebot.exceptions import (\n",
    "    InvalidSignatureError\n",
    ")\n",
    "\n",
    "# 載入json處理套件\n",
    "import json\n",
    "secretFileContentJson = json.load(open('./line_secret_key', 'r', encoding='utf-8'))\n",
    "server_url = secretFileContentJson.get('server_url') \n",
    "app = Flask(__name__,static_url_path = \"/material\" , static_folder = \"./material/\")\n",
    "\n",
    "#生成實體物件\n",
    "line_bot_api = LineBotApi(secretFileContentJson.get('channel_access_token'))\n",
    "\n"
   ]
  },
  {
   "cell_type": "code",
   "execution_count": 2,
   "metadata": {},
   "outputs": [
    {
     "name": "stdout",
     "output_type": "stream",
     "text": [
      "rich_menu_main\n",
      "rich_menu_schedule\n",
      "rich_menu_shoe\n"
     ]
    }
   ],
   "source": [
    "import requests\n",
    "import os \n",
    "for i in os.listdir('./material/rich_menu'):\n",
    "    menujson = json.loads(open('./material/rich_menu/' + i + '/rich_menu.json', encoding='utf-8'))\n",
    "    createMenuEndpoint = 'https://api.line.me/v2/bot/richmenu'\n",
    "    "
   ]
  },
  {
   "cell_type": "code",
   "execution_count": null,
   "metadata": {
    "scrolled": false
   },
   "outputs": [
    {
     "name": "stdout",
     "output_type": "stream",
     "text": [
      " * Serving Flask app \"__main__\" (lazy loading)\n",
      " * Environment: production\n",
      "   WARNING: This is a development server. Do not use it in a production deployment.\n",
      "   Use a production WSGI server instead.\n",
      " * Debug mode: off\n"
     ]
    },
    {
     "name": "stderr",
     "output_type": "stream",
     "text": [
      " * Running on http://0.0.0.0:5000/ (Press CTRL+C to quit)\n"
     ]
    }
   ],
   "source": [
    "if __name__ == \"__main__\":\n",
    "    app.run(host='0.0.0.0')"
   ]
  },
  {
   "cell_type": "code",
   "execution_count": null,
   "metadata": {},
   "outputs": [],
   "source": []
  }
 ],
 "metadata": {
  "kernelspec": {
   "display_name": "Python 3",
   "language": "python",
   "name": "python3"
  },
  "language_info": {
   "codemirror_mode": {
    "name": "ipython",
    "version": 3
   },
   "file_extension": ".py",
   "mimetype": "text/x-python",
   "name": "python",
   "nbconvert_exporter": "python",
   "pygments_lexer": "ipython3",
   "version": "3.7.4"
  }
 },
 "nbformat": 4,
 "nbformat_minor": 1
}
